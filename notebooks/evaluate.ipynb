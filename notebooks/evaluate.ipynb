{
 "cells": [
  {
   "cell_type": "markdown",
   "metadata": {},
   "source": [
    "# 社交网络关键节点预测算法比较\n",
    "\n",
    "算法: \n",
    "- 基于度中心性 (Degree Centrality)\n",
    "- 基于PageRank\n",
    "- 基于k-壳分解 (k-shell)\n",
    "- 基于贪心最大影响力 (Greedy IMM)\n",
    "- 基于GAT的深度学习方法\n",
    " \n",
    "数据集: \n",
    "- Facebook社交网络\n",
    "- Twitter社交网络\n",
    "- Epinions信任网络"
   ]
  },
  {
   "cell_type": "code",
   "execution_count": null,
   "metadata": {},
   "outputs": [],
   "source": [
    "# 将项目基址添加到系统路径\n",
    "import sys\n",
    "sys.path.append('/home/ten_of_hearts/Programing/Network')"
   ]
  },
  {
   "cell_type": "code",
   "execution_count": null,
   "metadata": {},
   "outputs": [],
   "source": [
    "# "
   ]
  }
 ],
 "metadata": {
  "kernelspec": {
   "display_name": "Network",
   "language": "python",
   "name": "python3"
  },
  "language_info": {
   "name": "python",
   "version": "3.10.0"
  }
 },
 "nbformat": 4,
 "nbformat_minor": 2
}
